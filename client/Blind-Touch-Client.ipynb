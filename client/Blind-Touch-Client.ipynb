{
 "cells": [
  {
   "cell_type": "markdown",
   "id": "17575192",
   "metadata": {},
   "source": [
    "# 0. Setup\n",
    "\n",
    "Load the modules"
   ]
  },
  {
   "cell_type": "code",
   "execution_count": null,
   "id": "b32bdb88",
   "metadata": {
    "scrolled": true
   },
   "outputs": [],
   "source": [
    "from seal import *\n",
    "\n",
    "import numpy as np\n",
    "import matplotlib.pyplot as plt\n",
    "import keras\n",
    "from keras import layers\n",
    "from keras.models import Model\n",
    "from sklearn.utils import shuffle\n",
    "from sklearn.model_selection import train_test_split\n",
    "from imgaug import augmenters as iaa\n",
    "import tensorflow as tf\n",
    "import random\n",
    "from sklearn import svm\n",
    "import requests\n",
    "import tensorflow\n",
    "from keras.models import Sequential\n",
    "import warnings\n",
    "from sklearn.preprocessing import normalize\n",
    "warnings.filterwarnings(action='ignore')\n",
    "\n",
    "%matplotlib inline"
   ]
  },
  {
   "cell_type": "markdown",
   "id": "b0b3c62b",
   "metadata": {},
   "source": [
    "# 1. Key Generation\n",
    "- Define the key path\n",
    "- If there is no generated key pair, use this code to generate key set."
   ]
  },
  {
   "cell_type": "code",
   "execution_count": null,
   "id": "c47d591c",
   "metadata": {},
   "outputs": [],
   "source": [
    "PK_PATH = 'keyset/public_key' # 'Define the pbulic key path'\n",
    "SK_PATH = 'keyset/secret_key' # 'Define the secret key path'\n",
    "GK_PATH = 'keyset/galois_keys' # 'Define the galois key path'\n",
    "RL_PATH = 'keyset/relin_key' # 'Define the relinearization key path'"
   ]
  },
  {
   "cell_type": "markdown",
   "id": "3a9ec980",
   "metadata": {},
   "source": [
    "# 2. CKKS scheme's parameter setting (In the SEAL-Python)"
   ]
  },
  {
   "cell_type": "code",
   "execution_count": null,
   "id": "954e0cc6",
   "metadata": {},
   "outputs": [],
   "source": [
    "parms = EncryptionParameters(scheme_type.ckks)\n",
    "poly_modulus_degree = 16384\n",
    "parms.set_poly_modulus_degree(poly_modulus_degree)\n",
    "parms.set_coeff_modulus(CoeffModulus.Create(\n",
    "        poly_modulus_degree, [60, 40, 40, 40, 60]))\n",
    "scale = 2.0**40\n",
    "context = SEALContext(parms) \n",
    "ckks_encoder = CKKSEncoder(context)\n",
    "slot_count = ckks_encoder.slot_count()\n",
    "print(f'Number of slots: {slot_count}')\n",
    " \n",
    "\n",
    "public_key = PublicKey()\n",
    "public_key.load(context, PK_PATH)\n",
    "secret_key = SecretKey()\n",
    "secret_key.load(context, SK_PATH) \n",
    "galois_key = GaloisKeys()\n",
    "galois_key.load(context, GK_PATH)\n",
    "relin_keys = RelinKeys()\n",
    "relin_keys.load(context, RL_PATH)\n",
    "\n",
    "encryptor = Encryptor(context, public_key)\n",
    "evaluator = Evaluator(context)\n",
    "decryptor = Decryptor(context, secret_key)"
   ]
  },
  {
   "cell_type": "markdown",
   "id": "29800846",
   "metadata": {},
   "source": [
    "# 3. Load dataset\n",
    "- Load the test dataset which is saved in the training"
   ]
  },
  {
   "cell_type": "code",
   "execution_count": null,
   "id": "ca688072",
   "metadata": {},
   "outputs": [],
   "source": [
    "TESTSET_PATH = 'The test set of the sokoto dataset from the training'\n",
    "test_data = np.load(TESTSET_PATH, allow_pickle=True)\n",
    "test_data.shape"
   ]
  },
  {
   "cell_type": "markdown",
   "id": "bb40602a",
   "metadata": {},
   "source": [
    "# 4. Load models\n",
    "\n",
    "- Load the models which are saved in the training"
   ]
  },
  {
   "cell_type": "code",
   "execution_count": null,
   "id": "5123eb53",
   "metadata": {
    "scrolled": true
   },
   "outputs": [],
   "source": [
    "def recall_m(y_true, y_pred):\n",
    "    true_positives = K.sum(K.round(K.clip(y_true * y_pred, 0, 1)))\n",
    "    possible_positives = K.sum(K.round(K.clip(y_true, 0, 1)))\n",
    "    recall = true_positives / (possible_positives + K.epsilon())\n",
    "    return recall\n",
    "\n",
    "def precision_m(y_true, y_pred):\n",
    "    true_positives = K.sum(K.round(K.clip(y_true * y_pred, 0, 1)))\n",
    "    predicted_positives = K.sum(K.round(K.clip(y_pred, 0, 1)))\n",
    "    precision = true_positives / (predicted_positives + K.epsilon())\n",
    "    return precision\n",
    "\n",
    "def f1_m(y_true, y_pred):\n",
    "    precision = precision_m(y_true, y_pred)\n",
    "    recall = recall_m(y_true, y_pred)\n",
    "    return 2*((precision*recall)/(precision+recall+K.epsilon()))\n",
    "\n",
    "swish = tensorflow.keras.activations.swish\n",
    "\n",
    "custom_objects={\"f1_m\": f1_m, \"precision_m\":precision_m, \"recall_m\":recall_m}\n",
    "\n",
    "def sigmoid(x):\n",
    "    return 1 / (1 +np.exp(-x))"
   ]
  },
  {
   "cell_type": "code",
   "execution_count": null,
   "id": "692bc5b2",
   "metadata": {},
   "outputs": [],
   "source": [
    "FEATURE_MODEL_PATH = 'Feature model path defined in the training'\n",
    "MODEL_PATH = 'Model path defined in the training'\n",
    " \n",
    "feature_model = tf.keras.models.load_model(FEATURE_MODEL_PATH, custom_objects=custom_objects)\n",
    "model = tf.keras.models.load_model(MODEL_PATH, custom_objects=custom_objects)"
   ]
  },
  {
   "cell_type": "markdown",
   "id": "2cc9e408",
   "metadata": {},
   "source": [
    "# 5. For Pre-processing (defined in our paper)\n",
    "- Adjust the parameter and do test."
   ]
  },
  {
   "cell_type": "code",
   "execution_count": null,
   "id": "ea95ee50",
   "metadata": {},
   "outputs": [],
   "source": [
    "test_seq = iaa.Sequential([\n",
    "    iaa.GaussianBlur(sigma=(0, 0.7)),\n",
    "    iaa.Dropout((0.01, 0.15), per_channel=0.5),\n",
    "    iaa.Affine(\n",
    "        scale={\"x\": (0.9, 1.1), \"y\": (0.9, 1.1)},\n",
    "        translate_percent={\"x\": (-0.1, 0.1), \"y\": (-0.1, 0.1)},\n",
    "        rotate=(-30, 30),\n",
    "        order=[0, 1],\n",
    "        cval=1\n",
    "    )\n",
    "], random_order=True)"
   ]
  },
  {
   "cell_type": "markdown",
   "id": "b2407391",
   "metadata": {},
   "source": [
    "# 6. Split the 1,200 test set to 3 part (For three clusters)\n",
    "\n",
    "## 6-1. Extract the feature vectors"
   ]
  },
  {
   "cell_type": "code",
   "execution_count": null,
   "id": "f4b69877",
   "metadata": {},
   "outputs": [],
   "source": [
    "weight = model.weights[30]\n",
    "bias = model.weights[31]\n",
    "\n",
    "result1 = feature_model.predict(test_data[:512])\n",
    "result1 = keras.layers.UnitNormalization()(layers.Flatten()(result1))\n",
    "result1 = np.matmul(result1, weight)\n",
    "\n",
    "result2 = feature_model.predict(test_data[512:1024])\n",
    "result2 = keras.layers.UnitNormalization()(layers.Flatten()(result2))\n",
    "result2 = np.matmul(result2, weight)\n",
    "\n",
    "result3 = feature_model.predict(test_data[1024:])\n",
    "result3 = keras.layers.UnitNormalization()(layers.Flatten()(result3))\n",
    "result3 = np.matmul(result3, weight)"
   ]
  },
  {
   "cell_type": "markdown",
   "id": "5a258a16",
   "metadata": {},
   "source": [
    "## 6-2 Encrypt the three sets of the feature vectors "
   ]
  },
  {
   "cell_type": "code",
   "execution_count": null,
   "id": "b4544cac",
   "metadata": {},
   "outputs": [],
   "source": [
    "ctxt1 = encryptor.encrypt(ckks_encoder.encode(result1.flatten(), scale))\n",
    "ctxt2 = encryptor.encrypt(ckks_encoder.encode(result2.flatten(), scale))\n",
    "ctxt3 = encryptor.encrypt(ckks_encoder.encode(result3.flatten(), scale))"
   ]
  },
  {
   "cell_type": "code",
   "execution_count": null,
   "id": "09b3b252",
   "metadata": {},
   "outputs": [],
   "source": [
    "CTXT1_PATH = 'Path of the ctxt1'\n",
    "CTXT2_PATH = 'Path of the ctxt2'\n",
    "CTXT3_PATH = 'Path of the ctxt3'\n",
    "\n",
    "ctxt1.save(CTXT1_PATH)\n",
    "ctxt2.save(CTXT2_PATH)\n",
    "ctxt3.save(CTXT3_PATH)"
   ]
  },
  {
   "cell_type": "markdown",
   "id": "9c7bd18e",
   "metadata": {},
   "source": [
    "## TEST"
   ]
  },
  {
   "cell_type": "code",
   "execution_count": null,
   "id": "97709f37",
   "metadata": {},
   "outputs": [],
   "source": [
    "from time import time\n",
    "MAX_FINGER_NUM = 512\n",
    "THRESHOLD = 0.99 # Set your threshold\n",
    "URL = 'MAIN_SERVER_IP:MAIN_SERVER_PORT/blindtouch' # The URL of the main server\n",
    "\n",
    "idx = random.randint(0, 1199)\n",
    "print('randomly chosen idx : ', idx)\n",
    "test = test_seq.augment_image(test_data[idx]) # Pre-processing\n",
    "\n",
    "START_TIME = time()\n",
    "scaled_x_test = [] \n",
    "\n",
    "predicted_ = feature_model.predict(test.reshape([1,224,224,1]))\n",
    "predicted_ = keras.layers.UnitNormalization()(layers.Flatten()(predicted_))\n",
    "predicted = np.matmul(predicted_, weight) + bias\n",
    "predicted = np.array(predicted.numpy().tolist()[0]* MAX_FINGER_NUM)\n",
    "\n",
    "\n",
    "ctxt = encryptor.encrypt(ckks_encoder.encode(predicted, scale))\n",
    "ctxt.save('temp_ctxt')\n",
    "files = open('temp_ctxt', 'rb')\n",
    "upload = {'target_enc': files}\n",
    "response = requests.post(URL, files = upload) \n",
    "\n",
    "with open('./result_enc', mode='wb') as localfile:     \n",
    "    localfile.write(response.content) \n",
    "FINISH_TIME = time()\n",
    "ctxt2 = Ciphertext()\n",
    "ctxt2.load(context, './result_enc')\n",
    "    \n",
    "vec = ckks_encoder.decode(decryptor.decrypt(ctxt2))\n",
    "print('TOTAL TIME (s): ', time()-START_TIME) \n",
    "result_list = []\n",
    "for i in range(3):\n",
    "    for j in range(512):\n",
    "        result_list.append(sigmoid(vec[j * 16 + i]))\n",
    "\n",
    "for ii in range(len(result_list)):\n",
    "    if result_list[ii] > THRESHOLD :\n",
    "        print('Predicted idx: ', ii)"
   ]
  }
 ],
 "metadata": {
  "kernelspec": {
   "display_name": "Python 3 (ipykernel)",
   "language": "python",
   "name": "python3"
  },
  "language_info": {
   "codemirror_mode": {
    "name": "ipython",
    "version": 3
   },
   "file_extension": ".py",
   "mimetype": "text/x-python",
   "name": "python",
   "nbconvert_exporter": "python",
   "pygments_lexer": "ipython3",
   "version": "3.9.5"
  }
 },
 "nbformat": 4,
 "nbformat_minor": 5
}
